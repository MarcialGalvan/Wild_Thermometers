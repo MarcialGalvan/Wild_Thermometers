{
 "cells": [
  {
   "cell_type": "markdown",
   "metadata": {
    "tags": []
   },
   "source": [
    "# Planteamiento\n",
    "\n",
    "Tenemos una cuadricula de 12x12 en la que la que conocemos la ocupación de las columnas y de las filas, pero no la distribución de la ocupación.\n",
    "\n",
    "El reto consiste en, dada una ocupación dada, encontrar la distribución en la matriz.\n",
    "\n",
    "Existen restricciones. La superficie esta cubierta con termométros que hay que rellenar, y tiene que hacerse desde el bulbo hacia el final, sin dejar huecos.\n",
    "\n",
    "Fill the thermometers with mercury, such that the numbers outside the grid indicate how many cells in each row and column are filled. Mercury always starts filling from the base (circular part) of a thermometer, towards the top.\n",
    "\n",
    "Este es el escenario:\n",
    "\n",
    "![puzzle 19](img/puzzle_19_small.png)"
   ]
  },
  {
   "cell_type": "markdown",
   "metadata": {},
   "source": [
    "# Diferential evolution \n",
    "lo descarto, es para espacios continuos, y esto no se como mostrarlo como espacio continuo.\n",
    "\n",
    "Quiza convirtiendo los temometros en continuos, la longitud entre unidades, y hacemos una transformación. El llenado va desde cero hasta uno con n particiones, lo que consideramos son los termometros, que se llenan.\n",
    "La solución, por lo tanto, está en irlos llenando, de forma que se conformen las sumas de filas columnas.\n",
    "\n",
    "\n",
    "No, lo que es continuo es el llenado de cada celda, ahi podemos poner un umbral 0.5 de activación, y eso es lo que consideramos lleno o no. nuestra transición al uno.\n",
    "con una distribucion gausiana centrada en el o.5 podemos inicializarlo."
   ]
  },
  {
   "cell_type": "code",
   "execution_count": 3,
   "metadata": {},
   "outputs": [],
   "source": [
    "import numpy as np\n",
    "import pandas as pd\n",
    "import time\n",
    "import pygad"
   ]
  },
  {
   "cell_type": "markdown",
   "metadata": {},
   "source": [
    "# tablero 12x12"
   ]
  },
  {
   "cell_type": "code",
   "execution_count": 20,
   "metadata": {},
   "outputs": [],
   "source": [
    "#ctes\n",
    "N_FILAS = 12 # es cuadrado, asi que uso solo una\n",
    "target_col = np.array([7,5,7,1,7,3,4,4,7,7,7,4])\n",
    "target_fil = np.array([6,7,6,1,4,3,6,7,6,7,7,3])\n",
    "tablero = np.zeros(shape =(N_FILAS,N_FILAS))\n",
    "# Codificamos los termómetros\n",
    "# fila, columna, mov1,mov2,....mov n.\n",
    "# movimientos: u: up, d: down, l:left, r:right\n",
    "# La posición del bulbo está determinada por el par fila-columna, el recorrido del termometro por los movimientos.\n",
    "t1 =  np.transpose( np.array([0,0,'d','d','d']))\n",
    "t2 =  np.transpose( np.array([0,1,'r','r','r','r','d','d']))\n",
    "t3 =  np.transpose( np.array([0,10,'l','l','d','d'])) \n",
    "t4 =  np.transpose( np.array([0,11,'d','l','d'])) \n",
    "t5 =  np.transpose( np.array([1,7,'u','l','d'])) \n",
    "t6 =  np.transpose( np.array([1,9,'d'])) \n",
    "t7 =  np.transpose( np.array([2,3,'l','l'])) \n",
    "t8 =  np.transpose( np.array([2,4,'u','l','l','l'])) \n",
    "t9 =  np.transpose( np.array([2,11,'d','d','d','d','d','l'])) \n",
    "t10 = np.transpose( np.array([3,2,'l','d','d'])) \n",
    "t11 = np.transpose( np.array([3,3,'r','r'])) \n",
    "t12 = np.transpose( np.array([3,9,'l','l','u','l'])) \n",
    "t13 = np.transpose( np.array([4,2,'r','r','r'])) \n",
    "t14 = np.transpose( np.array([4,9,'l','l','l','u'])) \n",
    "t15 = np.transpose( np.array([5,2,'r','r'])) \n",
    "t16 = np.transpose( np.array([5,5,'r','r','r','r','d','l'])) \n",
    "t17 = np.transpose( np.array([6,6,'r'])) \n",
    "t18 = np.transpose( np.array([6,10,'u','u','u'])) \n",
    "t19 = np.transpose( np.array([7,0,'u','u','u'])) \n",
    "t20 = np.transpose( np.array([7,6,'l','u','l','l','l','l'])) \n",
    "t21 = np.transpose( np.array([8,3,'r'])) \n",
    "t22 = np.transpose( np.array([8,5,'r','r','u','r','r'])) \n",
    "t23 = np.transpose( np.array([8,11,'d'])) \n",
    "t24 = np.transpose( np.array([9,7,'l','l','d','r','r'])) \n",
    "t25 = np.transpose( np.array([9,9,'r','u','l'])) \n",
    "t26 = np.transpose( np.array([10,0,'u','u'])) \n",
    "t27 = np.transpose( np.array([10,1,'u','u','u'])) \n",
    "t28 = np.transpose( np.array([10,2,'u','u','u','r','r'])) \n",
    "t29 = np.transpose( np.array([10,4,'u','l','d'])) \n",
    "t30 = np.transpose( np.array([10,8,'u','u'])) \n",
    "t31 = np.transpose( np.array([10,9,'r']))\n",
    "t32 = np.transpose( np.array([11,4,'l','l','l','l']))\n",
    "t33 = np.transpose( np.array([11,6,'l']))\n",
    "t34 = np.transpose( np.array([11,7,'r','r']))\n",
    "t35 = np.transpose( np.array([11,11,'u']))\n",
    "\n",
    "termometros = pd.DataFrame([t1,t2,t3,t4,t5,t6,t7,t8,t9,t10,t11,\n",
    "                  t12,t13,t14,t15,t16,t17,t18,t19,t20,\n",
    "                  t21,t22,t23,t24,t25,t26,t27,t28,t29,\n",
    "                  t30,t31,t32,t33,t34,t35])"
   ]
  },
  {
   "attachments": {
    "6e592bd5-3dd1-4cb3-992c-6d9ff9ecfcc5.png": {
     "image/png": "[encoded data removed]"
    }
   },
   "cell_type": "markdown",
   "metadata": {},
   "source": [
    "## tablero de prueba pequeño 4x4\n",
    "Genero un tablero de prueba a ver si realmente es capaz de solucionarlo.\n",
    "\n",
    "ocupación:\n",
    "![image.png](attachment:6e592bd5-3dd1-4cb3-992c-6d9ff9ecfcc5.png)\n",
    "\n"
   ]
  },
  {
   "cell_type": "code",
   "execution_count": 15,
   "metadata": {},
   "outputs": [],
   "source": [
    "N_FILAS = 4 # es cuadrado, asi que uso solo una\n",
    "target_col = np.array([3,2,1,2])\n",
    "target_fil = np.array([3,3,1,1])\n",
    "tablero = np.zeros(shape =(N_FILAS,N_FILAS))\n",
    "t0 =  np.transpose( np.array([0,0,'r','r']))\n",
    "t1 =  np.transpose( np.array([0,3,'d','d','d','l','l']))\n",
    "t2 =  np.transpose( np.array([1,2,'l','l'])) \n",
    "t3 =  np.transpose( np.array([3,0,'u','r','r'])) \n",
    "termometros = pd.DataFrame([t0,t1,t2,t3])"
   ]
  },
  {
   "cell_type": "markdown",
   "metadata": {},
   "source": [
    "# Differential Evolution\n",
    "\n",
    "sigo [scipy](https://docs.scipy.org/doc/scipy/reference/generated/scipy.optimize.differential_evolution.html) tutorial\n"
   ]
  },
  {
   "cell_type": "markdown",
   "metadata": {},
   "source": [
    "He cargado el ga, la poblacion inicial, etc... no hay convergencia ni evolución, tengo que mirarlo en mas detalle a ver donde esta el error."
   ]
  },
  {
   "cell_type": "code",
   "execution_count": 18,
   "metadata": {
    "jupyter": {
     "source_hidden": true
    },
    "tags": []
   },
   "outputs": [],
   "source": [
    "# Como entrada acepta un vector 1D, asi que hemos de linealizar y luego tablerizar.\n",
    "lineal = np.zeros(144)\n",
    "def lin_to_tab(lin):\n",
    "    return np.reshape( lin, [N_FILAS,N_FILAS])\n",
    "\n",
    "def tab_to_lin(tab):\n",
    "    return np.reshape(tab, [N_FILAS*N_FILAS])"
   ]
  },
  {
   "cell_type": "code",
   "execution_count": 19,
   "metadata": {},
   "outputs": [],
   "source": [
    "def init_population( n_ind = 10):\n",
    "    init_population = np.empty(shape = (n_ind,N_FILAS*N_FILAS))\n",
    "    for ind in range(n_ind):\n",
    "        init_population[ind,:]= np.random.randint(0,2,N_FILAS*N_FILAS)\n",
    "    return init_population"
   ]
  },
  {
   "cell_type": "code",
   "execution_count": 49,
   "metadata": {},
   "outputs": [],
   "source": [
    "def fitness_func(sol):\n",
    "    tab = np.rint(lin_to_tab(sol))\n",
    "    ocu_col = np.sum(tab, axis= 0)\n",
    "    ocu_fil = np.sum(tab, axis = 1)\n",
    "    error = sum(abs(ocu_col - target_col))+ sum(abs(ocu_fil - target_fil))\n",
    "    return 1000-error    "
   ]
  },
  {
   "cell_type": "code",
   "execution_count": 21,
   "metadata": {},
   "outputs": [],
   "source": [
    "def evaluar_termometros(termometros,sol):\n",
    "    error = 0\n",
    "    solTab= lin_to_tab(sol)\n",
    "    for t in range(len(termometros)):\n",
    "        temp = termometros.iloc[t,:].to_list()\n",
    "        tRoute = list(filter(None,temp))\n",
    "        error += evaluar_integridad_termometro(tRoute,solTab)\n",
    "    return error\n",
    "    \n",
    "def evaluar_integridad_termometro(ruta, tablero):\n",
    "    f = int(ruta[0])\n",
    "    c = int(ruta[1])\n",
    "    termometroRoto = False;\n",
    "    c_ant_filled = False\n",
    "    if tablero[f,c]!=0:\n",
    "        c_ant_filled = True\n",
    "    for step in ruta[2:]:\n",
    "        #movemos el paso\n",
    "        if step == 'l':\n",
    "            c -= 1\n",
    "        elif step == 'r':\n",
    "            c += 1\n",
    "        elif step == 'u':\n",
    "            f = f-1\n",
    "        elif step == 'd':\n",
    "            f += 1      \n",
    "        #evaluamos\n",
    "        if tablero[f,c] == 0:\n",
    "            c_ant_filled = False\n",
    "        elif tablero[f,c] != 0 and c_ant_filled == False:\n",
    "            termometroRoto = True\n",
    "        if termometroRoto == True:\n",
    "            break\n",
    "    if termometroRoto == True:\n",
    "        return 1\n",
    "    else:\n",
    "        return 0"
   ]
  },
  {
   "cell_type": "code",
   "execution_count": 153,
   "metadata": {},
   "outputs": [],
   "source": [
    "def fitness2_func(sol):\n",
    "    tab = np.rint(lin_to_tab(sol))\n",
    "    ocu_col = np.sum(tab, axis= 0)\n",
    "    ocu_fil = np.sum(tab, axis = 1)\n",
    "    #error 1 nos da el error de número de celdas ocupadas. cuanto menor mejor\n",
    "    #error1 = sum(abs(ocu_col - target_col))+ sum(abs(ocu_fil - target_fil))\n",
    "    error1 = sum((ocu_col - target_col))+ sum((ocu_fil - target_fil))\n",
    "    #error2 = evaluar_termometros(termometros,sol)\n",
    "    return 1000-error1#-error2   "
   ]
  },
  {
   "cell_type": "code",
   "execution_count": 10,
   "metadata": {},
   "outputs": [],
   "source": [
    "# de : https://pablormier.github.io/2017/09/05/a-tutorial-on-differential-evolution-with-python/\n",
    "def de(fobj, bounds, mut=0.8, crossp=0.7, popsize=20, its=1000):\n",
    "    dimensions = len(bounds)\n",
    "    pop = np.random.rand(popsize, dimensions)\n",
    "    min_b, max_b = np.asarray(bounds).T\n",
    "    diff = np.fabs(min_b - max_b)\n",
    "    pop_denorm = min_b + pop * diff\n",
    "    fitness = np.asarray([fobj(ind) for ind in pop_denorm])\n",
    "    best_idx = np.argmin(fitness)\n",
    "    best = pop_denorm[best_idx]\n",
    "    for i in range(its):\n",
    "        for j in range(popsize):\n",
    "            idxs = [idx for idx in range(popsize) if idx != j]\n",
    "            a, b, c = pop[np.random.choice(idxs, 3, replace = False)]\n",
    "            mutant = np.clip(a + mut * (b - c), 0, 1)\n",
    "            cross_points = np.random.rand(dimensions) < crossp\n",
    "            if not np.any(cross_points):\n",
    "                cross_points[np.random.randint(0, dimensions)] = True\n",
    "                trial = np.where(cross_points, mutant, pop[j])\n",
    "                trial_denorm = min_b + trial * diff\n",
    "                f = fobj(trial_denorm)\n",
    "            if f < fitness[j]:\n",
    "                fitness[j] = f\n",
    "                pop[j] = trial\n",
    "            if f < fitness[best_idx]:\n",
    "                best_idx = j\n",
    "            best = trial_denorm\n",
    "    yield best, fitness[best_idx]"
   ]
  },
  {
   "cell_type": "code",
   "execution_count": 9,
   "metadata": {},
   "outputs": [
    {
     "data": {
      "text/plain": [
       "array([0, 0, 0, 0, 1, 1, 0, 1, 0, 0, 1, 0, 0, 0, 0, 0, 1, 0, 1, 0, 1, 0,\n",
       "       0, 1, 1, 0, 0, 1, 1, 1, 1, 1, 1, 0, 1, 0, 1, 0, 1, 1, 0, 1, 1, 0,\n",
       "       0, 1, 1, 1, 0, 1, 1, 0, 0, 1, 0, 0, 1, 0, 1, 1, 0, 1, 1, 1, 1, 1,\n",
       "       1, 1, 1, 1, 0, 0, 0, 1, 1, 1, 0, 1, 0, 0, 0, 0, 0, 0, 1, 1, 0, 1,\n",
       "       1, 1, 1, 0, 1, 0, 0, 0, 0, 0, 0, 1, 0, 0, 1, 0, 0, 1, 0, 1, 1, 1,\n",
       "       0, 1, 0, 1, 1, 0, 1, 1, 0, 1, 0, 1, 1, 0, 1, 1, 1, 0, 0, 0, 0, 1,\n",
       "       1, 1, 1, 0, 0, 0, 1, 1, 0, 1, 0, 1])"
      ]
     },
     "execution_count": 9,
     "metadata": {},
     "output_type": "execute_result"
    }
   ],
   "source": [
    "np.random.randint(0,2,144)"
   ]
  },
  {
   "cell_type": "markdown",
   "metadata": {},
   "source": [
    "## implementación de scipy"
   ]
  },
  {
   "cell_type": "code",
   "execution_count": 11,
   "metadata": {},
   "outputs": [],
   "source": [
    "from scipy.optimize import differential_evolution"
   ]
  },
  {
   "cell_type": "code",
   "execution_count": 58,
   "metadata": {},
   "outputs": [],
   "source": [
    "bounds = [[0, 1], [0, 1],[0, 1], [0, 1],[0, 1], [0, 1],[0, 1], [0, 1],\n",
    "          [0, 1], [0, 1],[0, 1], [0, 1],[0, 1], [0, 1],[0, 1], [0, 1]]"
   ]
  },
  {
   "cell_type": "code",
   "execution_count": 136,
   "metadata": {},
   "outputs": [
    {
     "data": {
      "text/plain": [
       "     fun: 988.0\n",
       " message: 'Optimization terminated successfully.'\n",
       "    nfev: 337\n",
       "     nit: 1\n",
       " success: True\n",
       "       x: array([0.88102432, 0.71055356, 0.6631627 , 0.2367585 , 0.26933391,\n",
       "       0.88266949, 0.98708821, 0.81595169, 0.89246066, 0.65569881,\n",
       "       0.80719784, 0.56670528, 0.57388311, 0.95973757, 0.92827997,\n",
       "       0.65967486])"
      ]
     },
     "execution_count": 136,
     "metadata": {},
     "output_type": "execute_result"
    }
   ],
   "source": [
    "result = differential_evolution(\n",
    "    fitness2_func,\n",
    "     bounds,\n",
    "    popsize = 10,\n",
    "    #strategy = 'randtobest1exp',\n",
    "    maxiter = 10)\n",
    "result"
   ]
  },
  {
   "cell_type": "code",
   "execution_count": 128,
   "metadata": {},
   "outputs": [
    {
     "data": {
      "text/plain": [
       "array([1., 1., 1., 0., 1., 1., 1., 1., 1., 1., 0., 1., 1., 1., 1., 1.])"
      ]
     },
     "execution_count": 128,
     "metadata": {},
     "output_type": "execute_result"
    }
   ],
   "source": [
    "a= np.rint(np.array(result.x))\n",
    "lin_to_tab(a)\n",
    "a"
   ]
  },
  {
   "cell_type": "code",
   "execution_count": 129,
   "metadata": {},
   "outputs": [
    {
     "data": {
      "text/plain": [
       "994.0"
      ]
     },
     "execution_count": 129,
     "metadata": {},
     "output_type": "execute_result"
    }
   ],
   "source": [
    "a= np.rint(np.array([0., 1., 1., 1., 1., 1., 1., 1., 0., 0., 1., 1., 0., 1., 1., 0.]))\n",
    "fitness2_func(a)"
   ]
  },
  {
   "cell_type": "code",
   "execution_count": 130,
   "metadata": {},
   "outputs": [
    {
     "data": {
      "text/plain": [
       "array([0., 1., 1., 1., 1., 1., 1., 1., 0., 0., 1., 1., 0., 1., 1., 0.])"
      ]
     },
     "execution_count": 130,
     "metadata": {},
     "output_type": "execute_result"
    }
   ],
   "source": [
    "lin_to_tab(a)\n",
    "a"
   ]
  },
  {
   "cell_type": "markdown",
   "metadata": {},
   "source": [
    "## Mi implementacion"
   ]
  },
  {
   "cell_type": "code",
   "execution_count": 143,
   "metadata": {},
   "outputs": [],
   "source": [
    "bounds = [[0, 1], [0, 1],[0, 1], [0, 1],[0, 1], [0, 1],[0, 1], [0, 1],\n",
    "          [0, 1], [0, 1],[0, 1], [0, 1],[0, 1], [0, 1],[0, 1], [0, 1]]"
   ]
  },
  {
   "cell_type": "code",
   "execution_count": 179,
   "metadata": {},
   "outputs": [],
   "source": [
    "# de : https://pablormier.github.io/2017/09/05/a-tutorial-on-differential-evolution-with-python/\n",
    "def de(fobj, bounds, mut=0.8, crossp=0.7, popsize=20, its=100):\n",
    "    dimensions = len(bounds)\n",
    "    pop = np.rint(np.random.rand(popsize, dimensions))\n",
    "    min_b, max_b = np.asarray(bounds).T\n",
    "    diff = np.fabs(min_b - max_b)\n",
    "    pop_denorm = min_b + pop * diff\n",
    "    fitness = np.asarray([fobj(ind) for ind in pop_denorm])\n",
    "    best_idx = np.argmin(fitness)\n",
    "    best = pop_denorm[best_idx]\n",
    "    for i in range(its):\n",
    "        for j in range(popsize):\n",
    "            idxs = [idx for idx in range(popsize) if idx != j]\n",
    "            a, b, c = pop[np.random.choice(idxs, 3, replace = False)]\n",
    "            mutant = np.clip(a + mut * (b - c), 0, 1)\n",
    "            cross_points = np.random.rand(dimensions) < crossp\n",
    "            if not np.any(cross_points):\n",
    "                cross_points[np.random.randint(0, dimensions)] = True\n",
    "            trial = np.where(cross_points, mutant, pop[j])\n",
    "            trial_denorm = min_b + trial * diff\n",
    "            f = fobj(trial_denorm)\n",
    "            if f < fitness[j]:\n",
    "                fitness[j] = f\n",
    "            pop[j] = trial\n",
    "            if f < fitness[best_idx]:\n",
    "                best_idx = j\n",
    "            best = trial_denorm\n",
    "    return best, fitness[best_idx]"
   ]
  },
  {
   "cell_type": "code",
   "execution_count": 183,
   "metadata": {},
   "outputs": [
    {
     "data": {
      "text/plain": [
       "array([1, 1, 1, 1, 1, 1, 1, 1, 1, 1, 1, 1, 1, 1, 1, 1])"
      ]
     },
     "execution_count": 183,
     "metadata": {},
     "output_type": "execute_result"
    }
   ],
   "source": [
    "min_b, max_b = np.asarray(bounds).T\n",
    "max_b"
   ]
  },
  {
   "cell_type": "code",
   "execution_count": 180,
   "metadata": {},
   "outputs": [
    {
     "name": "stdout",
     "output_type": "stream",
     "text": [
      "fitness:  988.0\n"
     ]
    }
   ],
   "source": [
    "result= de(fitness2_func,bounds)\n",
    "print ('fitness: ', result[1])"
   ]
  },
  {
   "cell_type": "code",
   "execution_count": 170,
   "metadata": {},
   "outputs": [
    {
     "data": {
      "text/plain": [
       "array([[1., 0., 0., 0.],\n",
       "       [1., 1., 0., 1.],\n",
       "       [0., 1., 0., 0.],\n",
       "       [1., 1., 1., 1.]])"
      ]
     },
     "execution_count": 170,
     "metadata": {},
     "output_type": "execute_result"
    }
   ],
   "source": [
    "lin_to_tab(np.rint(result[0]))"
   ]
  },
  {
   "cell_type": "code",
   "execution_count": null,
   "metadata": {},
   "outputs": [],
   "source": []
  }
 ],
 "metadata": {
  "kernelspec": {
   "display_name": "Python 3",
   "language": "python",
   "name": "python3"
  },
  "language_info": {
   "codemirror_mode": {
    "name": "ipython",
    "version": 3
   },
   "file_extension": ".py",
   "mimetype": "text/x-python",
   "name": "python",
   "nbconvert_exporter": "python",
   "pygments_lexer": "ipython3",
   "version": "3.7.6"
  }
 },
 "nbformat": 4,
 "nbformat_minor": 4
}
