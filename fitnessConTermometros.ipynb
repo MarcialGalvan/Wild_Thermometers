{
 "cells": [
  {
   "cell_type": "code",
   "execution_count": 1,
   "metadata": {},
   "outputs": [],
   "source": [
    "import numpy as np"
   ]
  },
  {
   "cell_type": "code",
   "execution_count": 2,
   "metadata": {},
   "outputs": [],
   "source": [
    "#ctes\n",
    "N_FILAS = 12 # es cuadrado, asi que uso solo una\n",
    "target_col = np.array([7,5,7,1,7,3,4,4,7,7,7,4])\n",
    "target_fil = np.array([6,7,6,1,4,3,6,7,6,7,7,3])\n",
    "tablero = np.zeros(shape =(N_FILAS,N_FILAS))"
   ]
  },
  {
   "cell_type": "code",
   "execution_count": 3,
   "metadata": {},
   "outputs": [],
   "source": [
    "# Como entrada acepta un vector 1D, asi que hemos de linealizar y luego tablerizar.\n",
    "lineal = np.zeros(144)\n",
    "def lin_to_tab(lin):\n",
    "    return np.reshape( lin, [12,12])\n",
    "\n",
    "def tab_to_lin(tab):\n",
    "    return np.reshape(tab, [144])"
   ]
  },
  {
   "cell_type": "code",
   "execution_count": 4,
   "metadata": {},
   "outputs": [],
   "source": [
    "def init_population( n_ind = 10):\n",
    "    init_population = np.empty(shape = (n_ind,144))\n",
    "    for ind in range(n_ind):\n",
    "        init_population[ind,:]= np.random.randint(0,2,144)\n",
    "    return init_population"
   ]
  },
  {
   "cell_type": "code",
   "execution_count": 5,
   "metadata": {},
   "outputs": [],
   "source": [
    "def fitness_func(sol, idx):\n",
    "    tab = lin_to_tab(sol)\n",
    "    ocu_col = np.sum(tab, axis= 0)\n",
    "    ocu_fil = np.sum(tab, axis = 1)\n",
    "    error = sum(abs(ocu_col - target_col))+ sum(abs(ocu_fil - target_fil))\n",
    "    return 1000-error    "
   ]
  },
  {
   "cell_type": "code",
   "execution_count": 98,
   "metadata": {},
   "outputs": [],
   "source": [
    "a = init_population(1)\n",
    "tablero  = lin_to_tab(a)"
   ]
  },
  {
   "cell_type": "code",
   "execution_count": 97,
   "metadata": {},
   "outputs": [],
   "source": [
    "\n"
   ]
  },
  {
   "cell_type": "code",
   "execution_count": 21,
   "metadata": {},
   "outputs": [],
   "source": [
    "import pandas as pd"
   ]
  },
  {
   "cell_type": "markdown",
   "metadata": {},
   "source": [
    "## Los termómetros"
   ]
  },
  {
   "cell_type": "code",
   "execution_count": 104,
   "metadata": {},
   "outputs": [],
   "source": [
    "# Codificamos los termómetros\n",
    "# fila, columna, mov1,mov2,....mov n.\n",
    "# movimientos: u: up, d: down, l:left, r:right\n",
    "# La posición del bulbo está determinada por el par fila-columna, el recorrido del termometro por los movimientos.\n",
    "t1 =  np.transpose( np.array([0,0,'d','d','d']))\n",
    "t2 =  np.transpose( np.array([0,1,'r','r','r','r','d','d']))\n",
    "t3 =  np.transpose( np.array([0,10,'l','l','d','d'])) \n",
    "t4 =  np.transpose( np.array([0,11,'d','l','d'])) \n",
    "t5 =  np.transpose( np.array([1,7,'u','l','d'])) \n",
    "t6 =  np.transpose( np.array([1,9,'d'])) \n",
    "t7 =  np.transpose( np.array([2,3,'l','l'])) \n",
    "t8 =  np.transpose( np.array([2,4,'u','l','l','l'])) \n",
    "t9 =  np.transpose( np.array([2,11,'d','d','d','d','d','l'])) \n",
    "t10 = np.transpose( np.array([3,2,'l','d','d'])) \n",
    "t11 = np.transpose( np.array([3,3,'r','r'])) \n",
    "t12 = np.transpose( np.array([3,9,'l','l','u','l'])) \n",
    "t13 = np.transpose( np.array([4,2,'r','r','r'])) \n",
    "t14 = np.transpose( np.array([4,9,'l','l','l','u'])) \n",
    "t15 = np.transpose( np.array([5,2,'r','r'])) \n",
    "t16 = np.transpose( np.array([5,5,'r','r','r','r','d','l'])) \n",
    "t17 = np.transpose( np.array([6,6,'r'])) \n",
    "t18 = np.transpose( np.array([6,10,'u','u','u'])) \n",
    "t19 = np.transpose( np.array([7,0,'u','u','u'])) \n",
    "t20 = np.transpose( np.array([7,6,'l','u','l','l','l','l'])) \n",
    "t21 = np.transpose( np.array([8,3,'r'])) \n",
    "t22 = np.transpose( np.array([8,5,'r','r','u','r','r'])) \n",
    "t23 = np.transpose( np.array([8,11,'d'])) \n",
    "t24 = np.transpose( np.array([9,7,'l','l','d','r','r'])) \n",
    "t25 = np.transpose( np.array([9,9,'r','u','l'])) \n",
    "t26 = np.transpose( np.array([10,0,'u','u'])) \n",
    "t27 = np.transpose( np.array([10,1,'u','u','u'])) \n",
    "t28 = np.transpose( np.array([10,2,'u','u','u','r','r'])) \n",
    "t29 = np.transpose( np.array([10,4,'u','l','d'])) \n",
    "t30 = np.transpose( np.array([10,8,'u','u'])) \n",
    "t31 = np.transpose( np.array([10,9,'r']))\n",
    "t32 = np.transpose( np.array([11,4,'l','l','l','l']))\n",
    "t33 = np.transpose( np.array([11,6,'l']))\n",
    "t34 = np.transpose( np.array([11,7,'r','r']))\n",
    "t35 = np.transpose( np.array([11,11,'u']))"
   ]
  },
  {
   "cell_type": "code",
   "execution_count": 110,
   "metadata": {},
   "outputs": [],
   "source": [
    "termometros = pd.DataFrame([t1,t2,t3,t4,t5,t6,t7,t8,t9,t10,t11,\n",
    "                  t12,t13,t14,t15,t16,t17,t18,t19,t20,\n",
    "                  t21,t22,t23,t24,t25,t26,t27,t28,t29,\n",
    "                  t30,t31,t32,t33,t34,t35])"
   ]
  },
  {
   "cell_type": "code",
   "execution_count": 177,
   "metadata": {},
   "outputs": [],
   "source": [
    "def fitness2_func(sol, idx):\n",
    "    tab = lin_to_tab(sol)\n",
    "    ocu_col = np.sum(tab, axis= 0)\n",
    "    ocu_fil = np.sum(tab, axis = 1)\n",
    "    #error 1 nos da el error de número de celdas ocupadas. cuanto menor mejor\n",
    "    error1 = sum(abs(ocu_col - target_col))+ sum(abs(ocu_fil - target_fil))\n",
    "    error2 = evaluar_termometros(termometros,sol)\n",
    "    return 1000-error1-error2    "
   ]
  },
  {
   "cell_type": "code",
   "execution_count": 178,
   "metadata": {},
   "outputs": [],
   "source": [
    "\n",
    "def evaluar_integridad_termometro(ruta, tablero):\n",
    "    f = int(ruta[0])\n",
    "    c = int(ruta[1])\n",
    "    termometroRoto = False;\n",
    "    c_ant_filled = False\n",
    "    if tablero[f,c]== 1:\n",
    "        c_ant_filled = True\n",
    "    for step in ruta[2:]:\n",
    "        #movemos el paso\n",
    "        if step == 'l':\n",
    "            c -= 1\n",
    "        elif step == 'r':\n",
    "            c += 1\n",
    "        elif step == 'u':\n",
    "            f = f-1\n",
    "        elif step == 'd':\n",
    "            f += 1      \n",
    "        #evaluamos\n",
    "        if tablero[f,c] == 0:\n",
    "            c_ant_filled = False\n",
    "        elif tablero[f,c] == 1 and c_ant_filled == False:\n",
    "            termometroRoto = True\n",
    "        if termometroRoto == True:\n",
    "            break\n",
    "    if termometroRoto == True:\n",
    "        return 2\n",
    "    else:\n",
    "        return 0"
   ]
  },
  {
   "cell_type": "code",
   "execution_count": 179,
   "metadata": {},
   "outputs": [],
   "source": [
    "\n",
    "def evaluar_termometros(termometros,tablero):\n",
    "    error = 0\n",
    "    for t in range(len(termometros)):\n",
    "        temp = termometros.iloc[t,:].to_list()\n",
    "        tRoute = list(filter(None,temp))\n",
    "        error += evaluar_integridad_termometro(tRoute,tablero)\n",
    "    return error"
   ]
  },
  {
   "cell_type": "code",
   "execution_count": 180,
   "metadata": {},
   "outputs": [
    {
     "data": {
      "text/plain": [
       "896.0"
      ]
     },
     "execution_count": 180,
     "metadata": {},
     "output_type": "execute_result"
    }
   ],
   "source": [
    "fitness2_func(tablero,1)"
   ]
  },
  {
   "cell_type": "code",
   "execution_count": null,
   "metadata": {},
   "outputs": [],
   "source": []
  }
 ],
 "metadata": {
  "kernelspec": {
   "display_name": "Python 3",
   "language": "python",
   "name": "python3"
  },
  "language_info": {
   "codemirror_mode": {
    "name": "ipython",
    "version": 3
   },
   "file_extension": ".py",
   "mimetype": "text/x-python",
   "name": "python",
   "nbconvert_exporter": "python",
   "pygments_lexer": "ipython3",
   "version": "3.7.6"
  }
 },
 "nbformat": 4,
 "nbformat_minor": 4
}
