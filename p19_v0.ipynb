{
 "cells": [
  {
   "cell_type": "markdown",
   "metadata": {
    "jupyter": {
     "source_hidden": true
    }
   },
   "source": [
    "# Planteamiento\n",
    "\n",
    "Tenemos una cuadricula de 12x12 en la que la que conocemos la ocupación de las columnas y de las filas, pero no la distribución de la ocupación.\n",
    "\n",
    "El reto consiste en, dada una ocupación dada, encontrar la distribución en la matriz.\n",
    "\n",
    "Existen restricciones. La superficie esta cubierta con termométros que hay que rellenar, y tiene que hacerse desde el bulbo hacia el final, sin dejar huecos.\n",
    "\n",
    "Fill the thermometers with mercury, such that the numbers outside the grid indicate how many cells in each row and column are filled. Mercury always starts filling from the base (circular part) of a thermometer, towards the top.\n",
    "\n",
    "Este es el escenario:\n",
    "\n",
    "![puzzle 19](img/puzzle_19_small.png)"
   ]
  },
  {
   "cell_type": "markdown",
   "metadata": {},
   "source": [
    "# V0: Sin termometros.\n",
    "\n",
    "La versión cero resuelve el problema sin termometros, es decir, considera solamente la ocupacion y no el \"rellenado\", con lo que ofrecera soluciones que no se ajustan a las normas, pero permitira tener un resolvedor en el que poner despues la restricciones.\n",
    "\n"
   ]
  },
  {
   "cell_type": "code",
   "execution_count": 187,
   "metadata": {},
   "outputs": [],
   "source": [
    "import numpy as np\n"
   ]
  },
  {
   "cell_type": "code",
   "execution_count": 107,
   "metadata": {},
   "outputs": [],
   "source": [
    "#ctes\n",
    "N_FILAS = 12 # es cuadrado, asi que uso solo una"
   ]
  },
  {
   "cell_type": "code",
   "execution_count": 218,
   "metadata": {},
   "outputs": [],
   "source": [
    "target_col = np.array([7,5,7,1,7,3,4,4,7,7,7,4])\n",
    "target_fil = np.array([6,7,6,1,4,3,6,7,6,7,7,3])"
   ]
  },
  {
   "cell_type": "code",
   "execution_count": 222,
   "metadata": {},
   "outputs": [],
   "source": [
    "tablero = np.zeros(shape =(N_FILAS,N_FILAS))"
   ]
  },
  {
   "cell_type": "code",
   "execution_count": 154,
   "metadata": {},
   "outputs": [],
   "source": [
    "def limpiar_tablero():\n",
    "    return np.zeros(shape = (N_FILAS,N_FILAS))\n",
    "\n",
    "def setear_n_celdas_random_en_tablero( tab, n_values):\n",
    "    for x in range(n_values):\n",
    "        coord = np.random.randint(0,N_FILAS,2)\n",
    "        tab[coord[0]][[coord[1]]] = 1\n",
    "        \n",
    "def chequear_solucion(tab):\n",
    "    ocu_col = np.sum(tablero, axis= 0)\n",
    "    ocu_fil = np.sum(tablero, axis = 1)\n",
    "    error = sum(abs(ocu_col - target_col))+ sum(abs(ocu_fil - target_fil))\n",
    "    return error    \n"
   ]
  },
  {
   "cell_type": "code",
   "execution_count": null,
   "metadata": {},
   "outputs": [],
   "source": []
  },
  {
   "cell_type": "code",
   "execution_count": 224,
   "metadata": {},
   "outputs": [
    {
     "data": {
      "text/plain": [
       "126.0"
      ]
     },
     "execution_count": 224,
     "metadata": {},
     "output_type": "execute_result"
    }
   ],
   "source": [
    "setear_n_celdas_random_en_tablero(tablero, 0)\n",
    "chequear_solucion(tablero)"
   ]
  },
  {
   "cell_type": "code",
   "execution_count": 185,
   "metadata": {},
   "outputs": [
    {
     "name": "stdout",
     "output_type": "stream",
     "text": [
      "n iteraciones:  28 fitness : 48.0\n"
     ]
    },
    {
     "data": {
      "text/plain": [
       "array([[0., 1., 0., 0., 1., 1., 1., 0., 1., 0., 1., 1.],\n",
       "       [0., 0., 0., 1., 0., 0., 0., 0., 1., 0., 1., 0.],\n",
       "       [0., 1., 0., 1., 0., 1., 1., 0., 1., 0., 0., 0.],\n",
       "       [1., 1., 0., 1., 1., 1., 0., 0., 0., 1., 0., 0.],\n",
       "       [1., 1., 0., 1., 0., 0., 0., 0., 0., 0., 0., 0.],\n",
       "       [1., 0., 1., 1., 0., 0., 0., 0., 1., 0., 0., 1.],\n",
       "       [1., 0., 0., 0., 1., 1., 0., 0., 1., 0., 0., 1.],\n",
       "       [0., 0., 0., 0., 0., 1., 0., 0., 1., 0., 0., 0.],\n",
       "       [0., 0., 0., 0., 0., 0., 1., 0., 1., 1., 1., 1.],\n",
       "       [0., 1., 1., 0., 0., 0., 1., 0., 1., 1., 1., 0.],\n",
       "       [1., 1., 0., 0., 1., 0., 0., 1., 0., 1., 1., 1.],\n",
       "       [0., 1., 1., 0., 0., 0., 0., 0., 0., 0., 1., 0.]])"
      ]
     },
     "execution_count": 185,
     "metadata": {},
     "output_type": "execute_result"
    }
   ],
   "source": [
    "tablero =limpiar_tablero()\n",
    "sol = chequear_solucion(tablero)\n",
    "count = 0\n",
    "maxIter = 9999\n",
    "while sol >=50 and count < maxIter:\n",
    "    count += 1                  \n",
    "    setear_n_celdas_random_en_tablero(tablero, 3)\n",
    "    sol = chequear_solucion(tablero)\n",
    "    if maxIter%100 == 0:\n",
    "        tablero = limpiar_tablero()\n",
    "\n",
    "print ('n iteraciones: ',count, 'fitness :', sol)\n",
    "tablero\n"
   ]
  },
  {
   "cell_type": "code",
   "execution_count": 217,
   "metadata": {},
   "outputs": [
    {
     "name": "stdout",
     "output_type": "stream",
     "text": [
      "n iteraciones:  35203 fitness : 28.0\n",
      "col: [7 5 7 1 7 3 4 4 7 7 7 4]\n",
      "try: [6 7 5 4 7 5 3 4 5 6 6 6]\n",
      "fil: [6 7 6 1 4 3 6 7 6 7 7 3]\n",
      "try: [7 8 6 2 4 4 5 7 5 6 5 5]\n"
     ]
    },
    {
     "data": {
      "text/plain": [
       "array([[0., 0., 1., 1., 1., 0., 0., 1., 1., 1., 1., 0.],\n",
       "       [1., 0., 0., 0., 1., 1., 0., 1., 1., 1., 1., 1.],\n",
       "       [0., 1., 1., 1., 1., 0., 0., 1., 0., 0., 0., 1.],\n",
       "       [1., 1., 0., 0., 0., 0., 0., 0., 0., 0., 0., 0.],\n",
       "       [0., 1., 0., 0., 1., 0., 0., 0., 1., 0., 1., 0.],\n",
       "       [0., 1., 1., 0., 0., 1., 0., 0., 0., 0., 0., 1.],\n",
       "       [1., 1., 0., 1., 1., 0., 0., 0., 0., 1., 0., 0.],\n",
       "       [1., 0., 1., 0., 0., 1., 1., 0., 1., 1., 0., 1.],\n",
       "       [1., 1., 0., 0., 0., 0., 1., 1., 0., 0., 0., 1.],\n",
       "       [0., 1., 0., 1., 0., 1., 0., 0., 0., 1., 1., 1.],\n",
       "       [0., 0., 0., 0., 1., 1., 1., 0., 1., 0., 1., 0.],\n",
       "       [1., 0., 1., 0., 1., 0., 0., 0., 0., 1., 1., 0.]])"
      ]
     },
     "execution_count": 217,
     "metadata": {},
     "output_type": "execute_result"
    }
   ],
   "source": [
    "# Burdo, pero para ver que ocurre.\n",
    "# seteamos celdas de tres en tres, al azar, y buscamos soluciones con un buen fitness\n",
    "# tiene cada 50 pruebas reseteamos el tablero, son 144 casillas, el azar ya ya seteado 150 casillas...\n",
    "tablero =limpiar_tablero()\n",
    "sol = chequear_solucion(tablero)\n",
    "count = 0\n",
    "maxIter = 99999\n",
    "while sol >=30 and count < maxIter:\n",
    "    count += 1                  \n",
    "    setear_n_celdas_random_en_tablero(tablero, 3)\n",
    "    sol = chequear_solucion(tablero)\n",
    "    if count%75 == 0:\n",
    "        tablero = limpiar_tablero()\n",
    "\n",
    "print ('n iteraciones: ',count, 'fitness :', sol)\n",
    "\n",
    "print ('col:',target_col)\n",
    "print ('try:',np.sum(tablero, dtype = int, axis= 0))\n",
    "print ('fil:',target_fil)\n",
    "print ('try:',np.sum(tablero, dtype = int, axis = 1))\n",
    "tablero"
   ]
  },
  {
   "cell_type": "code",
   "execution_count": 197,
   "metadata": {},
   "outputs": [
    {
     "data": {
      "text/plain": [
       "38.0"
      ]
     },
     "execution_count": 197,
     "metadata": {},
     "output_type": "execute_result"
    }
   ],
   "source": [
    "\n",
    "chequear_solucion(tablero)"
   ]
  },
  {
   "cell_type": "code",
   "execution_count": 157,
   "metadata": {},
   "outputs": [
    {
     "data": {
      "text/plain": [
       "array([[0., 0., 0., 0., 0., 0., 0., 0., 0., 0., 0., 0.],\n",
       "       [0., 0., 0., 0., 0., 0., 0., 0., 0., 0., 0., 0.],\n",
       "       [0., 0., 0., 0., 0., 0., 0., 0., 0., 0., 0., 0.],\n",
       "       [0., 0., 0., 0., 0., 0., 0., 0., 0., 0., 0., 0.],\n",
       "       [0., 0., 0., 0., 0., 0., 0., 0., 0., 0., 0., 0.],\n",
       "       [0., 0., 0., 0., 0., 0., 0., 0., 0., 0., 0., 0.],\n",
       "       [0., 0., 0., 0., 0., 0., 0., 0., 0., 0., 0., 0.],\n",
       "       [0., 0., 0., 0., 0., 0., 0., 0., 0., 0., 0., 0.],\n",
       "       [0., 0., 0., 0., 0., 0., 0., 0., 0., 0., 0., 0.],\n",
       "       [0., 0., 0., 0., 0., 0., 0., 0., 0., 0., 0., 0.],\n",
       "       [0., 0., 0., 0., 0., 0., 0., 0., 0., 0., 0., 0.],\n",
       "       [0., 0., 0., 0., 0., 0., 0., 0., 0., 0., 0., 0.]])"
      ]
     },
     "execution_count": 157,
     "metadata": {},
     "output_type": "execute_result"
    }
   ],
   "source": [
    "tablero"
   ]
  },
  {
   "cell_type": "code",
   "execution_count": null,
   "metadata": {},
   "outputs": [],
   "source": []
  }
 ],
 "metadata": {
  "kernelspec": {
   "display_name": "Python 3",
   "language": "python",
   "name": "python3"
  },
  "language_info": {
   "codemirror_mode": {
    "name": "ipython",
    "version": 3
   },
   "file_extension": ".py",
   "mimetype": "text/x-python",
   "name": "python",
   "nbconvert_exporter": "python",
   "pygments_lexer": "ipython3",
   "version": "3.7.6"
  }
 },
 "nbformat": 4,
 "nbformat_minor": 4
}
